{
 "cells": [
  {
   "cell_type": "code",
   "execution_count": 20,
   "metadata": {},
   "outputs": [
    {
     "name": "stdout",
     "output_type": "stream",
     "text": [
      "Print squares\n",
      "Square 4\n",
      "Square 9\n",
      "Square 16\n",
      "Square 25\n",
      "Print cubes\n",
      "Cube 8\n",
      "Cube 27\n",
      "Cube 64\n",
      "Cube 125\n",
      "Program took 0.0039594173431396484\n"
     ]
    }
   ],
   "source": [
    "import time\n",
    "import threading\n",
    "\n",
    "\n",
    "def PrintSquare(numbers):\n",
    "  print(\"Print squares\")\n",
    "  for n in numbers:\n",
    "    #time.sleep(0.2)\n",
    "    print(\"Square\", n*n)\n",
    "\n",
    "\n",
    "def PrintCube(numbers):\n",
    "  print(\"Print cubes\")\n",
    "  for n in numbers:\n",
    "    #time.sleep(0.2)\n",
    "    print(\"Cube\", n*n*n)\n",
    "\n",
    "\n",
    "def Main():\n",
    "    arr = [2,3,4,5]\n",
    "    t = time.time()\n",
    "    t1=threading.Thread(target=PrintSquare, args=(arr,))\n",
    "    t2=threading.Thread(target=PrintCube, args=(arr,))\n",
    "    t1.start()\n",
    "    t2.start()\n",
    "    t1.join()\n",
    "    t2.join()\n",
    "    print(\"Program took\", time.time()-t)\n",
    "\n",
    "\n",
    "if __name__ == '__main__':\n",
    "    Main()"
   ]
  },
  {
   "cell_type": "code",
   "execution_count": 21,
   "metadata": {},
   "outputs": [
    {
     "name": "stdout",
     "output_type": "stream",
     "text": [
      "Print squares of the given numbers\n",
      "Square 4\n",
      "Square 9\n",
      "Square 16\n",
      "Square 25\n",
      "Print cubes of the given numbers\n",
      "Cube 8\n",
      "Cube 27\n",
      "Cube 64\n",
      "Cube 125\n",
      "Program took 0.0010006427764892578\n"
     ]
    }
   ],
   "source": [
    "def PrintSquare(numbers):\n",
    "  print(\"Print squares of the given numbers\")\n",
    "  for n in numbers:\n",
    "    #time.sleep(0.2)\n",
    "    print(\"Square\", n*n)\n",
    "\n",
    "\n",
    "def PrintCube(numbers):\n",
    "  print(\"Print cubes of the given numbers\")\n",
    "  for n in numbers:\n",
    "    #time.sleep(0.2)\n",
    "    print(\"Cube\", n*n*n)\n",
    "\n",
    "\n",
    "arr = [2,3,4,5]\n",
    "t = time.time()\n",
    "PrintSquare(arr)\n",
    "PrintCube(arr)\n",
    "print(\"Program took\", time.time()-t)"
   ]
  },
  {
   "cell_type": "code",
   "execution_count": null,
   "metadata": {},
   "outputs": [],
   "source": []
  },
  {
   "cell_type": "code",
   "execution_count": null,
   "metadata": {},
   "outputs": [],
   "source": []
  },
  {
   "cell_type": "code",
   "execution_count": null,
   "metadata": {},
   "outputs": [],
   "source": []
  },
  {
   "cell_type": "code",
   "execution_count": null,
   "metadata": {},
   "outputs": [],
   "source": []
  },
  {
   "cell_type": "code",
   "execution_count": null,
   "metadata": {},
   "outputs": [],
   "source": []
  }
 ],
 "metadata": {
  "kernelspec": {
   "display_name": "Python 3",
   "language": "python",
   "name": "python3"
  },
  "language_info": {
   "codemirror_mode": {
    "name": "ipython",
    "version": 3
   },
   "file_extension": ".py",
   "mimetype": "text/x-python",
   "name": "python",
   "nbconvert_exporter": "python",
   "pygments_lexer": "ipython3",
   "version": "3.7.3"
  }
 },
 "nbformat": 4,
 "nbformat_minor": 2
}
